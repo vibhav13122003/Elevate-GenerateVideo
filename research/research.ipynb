{
 "cells": [
  {
   "cell_type": "markdown",
   "metadata": {},
   "source": [
    "## VideoID Retrival "
   ]
  },
  {
   "cell_type": "code",
   "execution_count": 1,
   "metadata": {},
   "outputs": [
    {
     "name": "stdout",
     "output_type": "stream",
     "text": [
      "GuErWFsHSzM&pp\n"
     ]
    }
   ],
   "source": [
    "link = \"https://www.youtube.com/watch?v=GuErWFsHSzM\"\n",
    "link2 = \"https://www.youtube.com/watch?v=GuErWFsHSzM&pp=ygUJbXIgbW9iaWxl\"\n",
    "video_id = link2.split(\"=\")[1]\n",
    "print(video_id)"
   ]
  },
  {
   "cell_type": "markdown",
   "metadata": {},
   "source": [
    "## Youtube Video Transcription "
   ]
  },
  {
   "cell_type": "code",
   "execution_count": 21,
   "metadata": {},
   "outputs": [],
   "source": [
    "from youtube_transcript_api import YouTubeTranscriptApi"
   ]
  },
  {
   "cell_type": "code",
   "execution_count": 24,
   "metadata": {},
   "outputs": [],
   "source": [
    "def youtube_transcript(video_id):\n",
    "    transcript_dict=YouTubeTranscriptApi.get_transcript(video_id)\n",
    "    final_transcript = \"\"\n",
    "    for i in transcript_dict:\n",
    "        final_transcript += \" \" + i[\"text\"]\n",
    "        timevar = round(float(i[\"start\"]))\n",
    "        hours = int(timevar // 3600)\n",
    "        timevar %= 3600\n",
    "        minutes = int(timevar // 60)\n",
    "        timevar %= 60\n",
    "        timevex = f\"{hours:02d}:{minutes:02d}:{timevar:02d}\"\n",
    "        final_transcript += f' \"time:{timevex}\"'\n",
    "    return str(final_transcript)"
   ]
  },
  {
   "cell_type": "code",
   "execution_count": null,
   "metadata": {},
   "outputs": [],
   "source": [
    "youtube_transcript(\"GuErWFsHSzM&pp\")"
   ]
  },
  {
   "cell_type": "markdown",
   "metadata": {},
   "source": [
    "## Video title retrival"
   ]
  },
  {
   "cell_type": "code",
   "execution_count": 6,
   "metadata": {},
   "outputs": [
    {
     "name": "stdout",
     "output_type": "stream",
     "text": [
      "Samsung S24 Ultra Review: Galaxy Brain\n"
     ]
    }
   ],
   "source": [
    "from bs4 import BeautifulSoup\n",
    "import requests\n",
    "\n",
    "url = \"https://www.youtube.com/watch?v=GuErWFsHSzM\"\n",
    "r = requests.get(url) \n",
    "s = BeautifulSoup(r.text, \"html.parser\") \n",
    "title = s.find(\"meta\", itemprop=\"name\")[\"content\"]\n",
    "\n",
    "print(title)"
   ]
  },
  {
   "cell_type": "code",
   "execution_count": 13,
   "metadata": {},
   "outputs": [],
   "source": [
    "d = round(float(0.63))"
   ]
  },
  {
   "cell_type": "code",
   "execution_count": 14,
   "metadata": {},
   "outputs": [
    {
     "name": "stdout",
     "output_type": "stream",
     "text": [
      "1\n"
     ]
    }
   ],
   "source": [
    "print(d)"
   ]
  },
  {
   "cell_type": "markdown",
   "metadata": {},
   "source": [
    "# OpenAI ChatGPT"
   ]
  },
  {
   "cell_type": "code",
   "execution_count": 84,
   "metadata": {},
   "outputs": [],
   "source": [
    "import os\n",
    "from dotenv import load_dotenv\n",
    "load_dotenv()\n",
    "from openai import OpenAI\n",
    "client =   OpenAI(api_key=os.getenv(\"OPENAI_CHATPGPT_API_KEY2\"))"
   ]
  },
  {
   "cell_type": "code",
   "execution_count": 85,
   "metadata": {},
   "outputs": [],
   "source": [
    "model=\"gpt-3.5-turbo\"\n",
    "message = [{\"role\": \"system\", \"content\": \"who are you\"}]"
   ]
  },
  {
   "cell_type": "code",
   "execution_count": 86,
   "metadata": {},
   "outputs": [],
   "source": [
    "response = client.chat.completions.create(\n",
    "  model=model,\n",
    "  messages=message\n",
    ") "
   ]
  },
  {
   "cell_type": "code",
   "execution_count": null,
   "metadata": {},
   "outputs": [
    {
     "data": {
      "text/plain": [
       "'I am an AI digital assistant designed to help and provide information to users.'"
      ]
     },
     "execution_count": 73,
     "metadata": {},
     "output_type": "execute_result"
    }
   ],
   "source": [
    "response.choices[0].message.content"
   ]
  },
  {
   "cell_type": "markdown",
   "metadata": {},
   "source": [
    "## Regex pattern"
   ]
  },
  {
   "cell_type": "code",
   "execution_count": 2,
   "metadata": {},
   "outputs": [],
   "source": [
    "import re\n",
    "demo = \"\"\"1. [00:01:02](https://youtu.be/OpRMRhr0Ycc?t=62) Press Downs\n",
    "2. [00:02:08](https://youtu.be/OpRMRhr0Ycc?t=128) Bar Press Down\"\"\""
   ]
  },
  {
   "cell_type": "code",
   "execution_count": 96,
   "metadata": {},
   "outputs": [
    {
     "data": {
      "text/plain": [
       "[('00:01:02', 'Press Downs'), ('00:02:08', 'Bar Press Down')]"
      ]
     },
     "execution_count": 96,
     "metadata": {},
     "output_type": "execute_result"
    }
   ],
   "source": [
    "pattern= r\"(\\d{2}:\\d{2}:\\d{2})\\]\\((?:https:\\/\\/youtu\\.be\\/[A-Za-z0-9_-]+\\?t=\\d+)\\) ([^\\n]+)\"\n",
    "\n",
    "x =re.findall(pattern,demo)\n",
    "x"
   ]
  },
  {
   "cell_type": "code",
   "execution_count": null,
   "metadata": {},
   "outputs": [],
   "source": []
  }
 ],
 "metadata": {
  "kernelspec": {
   "display_name": "base",
   "language": "python",
   "name": "python3"
  },
  "language_info": {
   "codemirror_mode": {
    "name": "ipython",
    "version": 3
   },
   "file_extension": ".py",
   "mimetype": "text/x-python",
   "name": "python",
   "nbconvert_exporter": "python",
   "pygments_lexer": "ipython3",
   "version": "3.10.0"
  }
 },
 "nbformat": 4,
 "nbformat_minor": 2
}
